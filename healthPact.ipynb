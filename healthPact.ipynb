{
 "cells": [
  {
   "metadata": {
    "ExecuteTime": {
     "end_time": "2025-04-21T14:06:06.757686Z",
     "start_time": "2025-04-21T14:06:02.814711Z"
    }
   },
   "cell_type": "code",
   "source": [
    "import pandas as pd\n",
    "import numpy as np\n",
    "import matplotlib.pyplot as plt\n",
    "import seaborn as sns\n",
    "\n",
    "from sklearn.model_selection import train_test_split, GridSearchCV\n",
    "from sklearn.preprocessing import StandardScaler, OneHotEncoder\n",
    "from sklearn.compose import ColumnTransformer\n",
    "from sklearn.pipeline import Pipeline\n",
    "from sklearn.linear_model import LogisticRegression\n",
    "from sklearn.ensemble import RandomForestClassifier\n",
    "from sklearn.metrics import accuracy_score, precision_score, recall_score, confusion_matrix\n",
    "import joblib\n"
   ],
   "id": "fbc121e30a2defb3",
   "outputs": [],
   "execution_count": 1
  },
  {
   "metadata": {},
   "cell_type": "code",
   "source": [
    "# Load each dataset (adjust the paths to your local machine if needed)\n",
    "stock_df = pd.read_csv(\"data/stock_data.csv\")\n",
    "hatch_df = pd.read_csv(\"data/hatch_data.csv\")\n",
    "dai_df = pd.read_csv(\"data/dai_data.csv\")\n",
    "\n",
    "# Preview the data\n",
    "print(stock_df.head())\n",
    "print(hatch_df.head())\n",
    "print(dai_df.head())\n",
    "\n",
    "# Check columns in dai_df\n",
    "print(\"Columns in dai_df:\", dai_df.columns)\n",
    "\n",
    "# Ensure 'Year' column exists in dai_df\n",
    "if 'Year' not in dai_df.columns:\n",
    "    raise KeyError(\"'Year' column is missing in dai_df. Please check the dataset.\")\n",
    "\n",
    "# Convert 'Year' to numeric\n",
    "dai_df['Year'] = pd.to_numeric(dai_df['Year'], errors='coerce')\n",
    "\n",
    "# Make sure 'Year' is numeric\n",
    "hatch_df['Year'] = pd.to_numeric(hatch_df['Year'], errors='coerce')\n",
    "dai_df['Year'] = pd.to_numeric(dai_df['Year'], errors='coerce')\n",
    "\n",
    "# Check columns in hatch_df\n",
    "print(\"Columns in hatch_df:\", hatch_df.columns)\n",
    "\n",
    "# Check columns in dai_df\n",
    "print(\"Columns in dai_df:\", dai_df.columns)\n",
    "\n",
    "# Ensure 'Region' column is of the same type in both DataFrames\n",
    "hatch_df['Region'] = hatch_df['Region'].astype(str)\n",
    "dai_df['Region'] = dai_df['Region'].astype(str)\n"
   ],
   "id": "e074a1428b76be94",
   "execution_count": null,
   "outputs": []
  },
  {
   "metadata": {
    "ExecuteTime": {
     "end_time": "2025-04-21T15:09:59.176470Z",
     "start_time": "2025-04-21T15:09:59.031660Z"
    }
   },
   "cell_type": "code",
   "source": [
    "import pandas as pd\n",
    "\n",
    "# Reload the DAI dataset (cleaned and correct)\n",
    "dai_df = pd.read_csv(\"data/dai_data.csv\")\n",
    "\n",
    "# Step 1: Calculate adoption growth by region over time\n",
    "dai_df = dai_df.sort_values(by=[\"Region\", \"Year\"])\n",
    "dai_df[\"Adoption_Growth\"] = dai_df.groupby(\"Region\")[\"Digital Adoption Index\"].pct_change().fillna(0)\n",
    "\n",
    "# Step 2: Create High Demand label based on median growth\n",
    "threshold = dai_df[\"Adoption_Growth\"].median()\n",
    "dai_df[\"High_Demand\"] = (dai_df[\"Adoption_Growth\"] > threshold).astype(int)\n",
    "\n",
    "# Output structure check\n",
    "dai_df.shape, dai_df.columns, dai_df.head()\n"
   ],
   "id": "a881920da2f867f8",
   "outputs": [
    {
     "name": "stderr",
     "output_type": "stream",
     "text": [
      "C:\\Users\\timmy\\AppData\\Local\\Temp\\ipykernel_41896\\1949837850.py:8: FutureWarning: The default fill_method='ffill' in SeriesGroupBy.pct_change is deprecated and will be removed in a future version. Either fill in any non-leading NA values prior to calling pct_change or specify 'fill_method=None' to not fill NA values.\n",
      "  dai_df[\"Adoption_Growth\"] = dai_df.groupby(\"Region\")[\"Digital Adoption Index\"].pct_change().fillna(0)\n"
     ]
    },
    {
     "data": {
      "text/plain": [
       "((366, 8),\n",
       " Index(['Region', 'Year', 'Digital Adoption Index', 'DAI Business Sub-index',\n",
       "        'DAI People Sub-index', 'DAI Government Sub-index', 'Adoption_Growth',\n",
       "        'High_Demand'],\n",
       "       dtype='object'),\n",
       "         Region  Year  Digital Adoption Index  DAI Business Sub-index  \\\n",
       " 0  Afghanistan  2014                0.302608                0.296788   \n",
       " 1  Afghanistan  2016                0.343214                0.341886   \n",
       " 2      Albania  2014                0.543884                0.554248   \n",
       " 3      Albania  2016                0.607904                0.621125   \n",
       " 4      Algeria  2014                0.369554                0.449673   \n",
       " \n",
       "    DAI People Sub-index  DAI Government Sub-index  Adoption_Growth  \\\n",
       " 0              0.087707                  0.523330         0.000000   \n",
       " 1              0.123343                  0.564413         0.134187   \n",
       " 2              0.387060                  0.690344         0.000000   \n",
       " 3              0.463779                  0.738807         0.117708   \n",
       " 4              0.279038                  0.379950         0.000000   \n",
       " \n",
       "    High_Demand  \n",
       " 0            0  \n",
       " 1            1  \n",
       " 2            0  \n",
       " 3            1  \n",
       " 4            0  )"
      ]
     },
     "execution_count": 35,
     "metadata": {},
     "output_type": "execute_result"
    }
   ],
   "execution_count": 35
  },
  {
   "metadata": {
    "ExecuteTime": {
     "end_time": "2025-04-21T15:14:55.703675Z",
     "start_time": "2025-04-21T15:14:54.880521Z"
    }
   },
   "cell_type": "code",
   "source": [
    "from sklearn.model_selection import train_test_split\n",
    "from sklearn.preprocessing import StandardScaler\n",
    "from sklearn.ensemble import RandomForestClassifier\n",
    "from sklearn.metrics import classification_report, confusion_matrix\n",
    "\n",
    "# 1. Features and Target\n",
    "features = ['Digital Adoption Index', 'DAI Business Sub-index',\n",
    "            'DAI People Sub-index', 'DAI Government Sub-index', 'Adoption_Growth']\n",
    "X = dai_df[features]\n",
    "y = dai_df['High_Demand']\n",
    "\n",
    "# 2. Split into train/test sets\n",
    "X_train, X_test, y_train, y_test = train_test_split(\n",
    "    X, y, test_size=0.2, random_state=42\n",
    ")\n",
    "\n",
    "# 3. Feature scaling\n",
    "scaler = StandardScaler()\n",
    "X_train_scaled = scaler.fit_transform(X_train)\n",
    "X_test_scaled = scaler.transform(X_test)\n",
    "\n",
    "# 4. Model training\n",
    "model = RandomForestClassifier(n_estimators=100, random_state=42)\n",
    "model.fit(X_train_scaled, y_train)\n",
    "\n",
    "# 5. Evaluation\n",
    "y_pred = model.predict(X_test_scaled)\n",
    "print(\"Confusion Matrix:\\n\", confusion_matrix(y_test, y_pred))\n",
    "print(\"\\nClassification Report:\\n\", classification_report(y_test, y_pred))\n"
   ],
   "id": "2fea8cadc7d6d104",
   "outputs": [
    {
     "name": "stdout",
     "output_type": "stream",
     "text": [
      "Confusion Matrix:\n",
      " [[40  0]\n",
      " [ 0 34]]\n",
      "\n",
      "Classification Report:\n",
      "               precision    recall  f1-score   support\n",
      "\n",
      "           0       1.00      1.00      1.00        40\n",
      "           1       1.00      1.00      1.00        34\n",
      "\n",
      "    accuracy                           1.00        74\n",
      "   macro avg       1.00      1.00      1.00        74\n",
      "weighted avg       1.00      1.00      1.00        74\n",
      "\n"
     ]
    }
   ],
   "execution_count": 36
  },
  {
   "metadata": {
    "ExecuteTime": {
     "end_time": "2025-04-21T15:16:27.723426Z",
     "start_time": "2025-04-21T15:16:26.898446Z"
    }
   },
   "cell_type": "code",
   "source": [
    "import matplotlib.pyplot as plt\n",
    "import seaborn as sns\n",
    "\n",
    "# Feature importance\n",
    "importances = model.feature_importances_\n",
    "feature_names = X.columns\n",
    "sns.barplot(x=importances, y=feature_names)\n",
    "plt.title(\"Feature Importance for Demand Forecasting\")\n",
    "plt.xlabel(\"Importance\")\n",
    "plt.ylabel(\"Feature\")\n",
    "plt.tight_layout()\n",
    "plt.show()\n"
   ],
   "id": "33bb28dcbed344f3",
   "outputs": [
    {
     "data": {
      "text/plain": [
       "<Figure size 640x480 with 1 Axes>"
      ],
      "image/png": "[encoded data removed]"
     },
     "metadata": {},
     "output_type": "display_data"
    }
   ],
   "execution_count": 37
  },
  {
   "metadata": {
    "ExecuteTime": {
     "end_time": "2025-04-21T15:16:51.560956Z",
     "start_time": "2025-04-21T15:16:51.484034Z"
    }
   },
   "cell_type": "code",
   "source": [
    "# Simulation of a new region's future DAI values\n",
    "future_data = pd.DataFrame([{\n",
    "    'Digital Adoption Index': 0.68,\n",
    "    'DAI Business Sub-index': 0.7,\n",
    "    'DAI People Sub-index': 0.65,\n",
    "    'DAI Government Sub-index': 0.75,\n",
    "    'Adoption_Growth': 0.12\n",
    "}])\n",
    "\n",
    "# Scale & predict\n",
    "future_scaled = scaler.transform(future_data)\n",
    "future_demand_pred = model.predict(future_scaled)\n",
    "print(\"Predicted Demand Level:\", 'High' if future_demand_pred[0] == 1 else 'Low')\n"
   ],
   "id": "2f6d4a868dcfe46",
   "outputs": [
    {
     "name": "stdout",
     "output_type": "stream",
     "text": [
      "Predicted Demand Level: High\n"
     ]
    }
   ],
   "execution_count": 38
  },
  {
   "metadata": {
    "ExecuteTime": {
     "end_time": "2025-04-21T15:17:14.507464Z",
     "start_time": "2025-04-21T15:17:14.335342Z"
    }
   },
   "cell_type": "code",
   "source": [
    "import joblib\n",
    "joblib.dump(model, 'models/demand_forecasting_model.pkl')\n",
    "joblib.dump(scaler, 'models/dai_scaler.pkl')\n"
   ],
   "id": "d661100f978fca9d",
   "outputs": [
    {
     "data": {
      "text/plain": [
       "['dai_scaler.pkl']"
      ]
     },
     "execution_count": 39,
     "metadata": {},
     "output_type": "execute_result"
    }
   ],
   "execution_count": 39
  },
  {
   "metadata": {
    "ExecuteTime": {
     "end_time": "2025-04-21T15:45:07.132273Z",
     "start_time": "2025-04-21T15:45:05.200851Z"
    }
   },
   "cell_type": "code",
   "source": [
    "from sklearn.preprocessing import StandardScaler\n",
    "\n",
    "# Assuming you already have 'dai_df' as your data and 'X' as your features\n",
    "scaler = StandardScaler()\n",
    "X_scaled = scaler.fit_transform(X)  # X would be your feature set\n",
    "\n",
    "# Add predictions to your data\n",
    "dai_df['Predicted_Demand'] = model.predict(X_scaled)\n",
    "\n",
    "# Export to Excel\n",
    "dai_df.to_excel(\"forecasted_demand_output.xlsx\", index=False)\n"
   ],
   "id": "d8a1d38dfa0e41a8",
   "outputs": [],
   "execution_count": 45
  },
  {
   "metadata": {
    "ExecuteTime": {
     "end_time": "2025-04-21T15:19:21.012625Z",
     "start_time": "2025-04-21T15:19:19.950672Z"
    }
   },
   "cell_type": "code",
   "source": [
    "plt.figure(figsize=(8, 5))\n",
    "sns.barplot(x=importances, y=feature_names)\n",
    "plt.title(\"Feature Importance for Demand Forecasting\")\n",
    "plt.xlabel(\"Importance Score\")\n",
    "plt.tight_layout()\n",
    "plt.savefig(\"feature_importance.png\")\n",
    "plt.show()\n"
   ],
   "id": "2c6402961129d975",
   "outputs": [
    {
     "data": {
      "text/plain": [
       "<Figure size 800x500 with 1 Axes>"
      ],
      "image/png": "[encoded data removed]"
     },
     "metadata": {},
     "output_type": "display_data"
    }
   ],
   "execution_count": 41
  },
  {
   "metadata": {},
   "cell_type": "code",
   "outputs": [],
   "execution_count": null,
   "source": "",
   "id": "feb5d6abfd15cedf"
  }
 ],
 "metadata": {
  "kernelspec": {
   "display_name": "Python 3",
   "language": "python",
   "name": "python3"
  },
  "language_info": {
   "codemirror_mode": {
    "name": "ipython",
    "version": 2
   },
   "file_extension": ".py",
   "mimetype": "text/x-python",
   "name": "python",
   "nbconvert_exporter": "python",
   "pygments_lexer": "ipython2",
   "version": "2.7.6"
  }
 },
 "nbformat": 4,
 "nbformat_minor": 5
}
